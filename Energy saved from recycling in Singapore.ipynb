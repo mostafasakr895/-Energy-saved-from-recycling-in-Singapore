{
 "cells": [
  {
   "cell_type": "markdown",
   "metadata": {},
   "source": [
    "# Energy saved from recycling in Singapore\n",
    "<p>Recycling saves energy by reducing or eliminating the need to make materials from scratch? For example, aluminum can manufacturers can skip the energy-costly process of producing aluminum from ore by cleaning and melting recycled cans. Aluminum is classified as a non-ferrous metal.</p>\n",
    "<p>Singapore has an ambitious goal of becoming a zero-waste nation. The amount of waste disposed of in Singapore has increased seven-fold over the last 40 years. At this rate, Semakau Landfill, Singapore’s only landfill, will run out of space by 2035. Making matters worse, Singapore has limited land for building new incineration plants or landfills.</p>\n",
    "<p>The government shared the total energy that the combined recycling efforts have saved every year. In this note we will work on finding the energy saved every year from 2015 to 2019 form the main recycled types.\n",
    "<p>We have been provided with three datasets. The data come from different teams, so the names of waste types may differ.</p>\n",
    "<div style=\"background-color: #efebe4; color: #05192d; text-align:left; vertical-align: middle; padding: 15px 25px 15px 25px; line-height: 1.6;\">\n",
    "    <div style=\"font-size:16px\"><b>datasets/wastestats.csv - Recycling statistics per waste type for the period 2003 to 2017</b>\n",
    "    </div>\n",
    "    <div>Source: <a href=\"https://www.nea.gov.sg/our-services/waste-management/waste-statistics-and-overall-recycling\">Singapore National Environment Agency</a></div>\n",
    "<ul>\n",
    "    <li><b>waste_type: </b>The type of waste recycled.</li>\n",
    "    <li><b>waste_disposed_of_tonne: </b>The amount of waste that could not be recycled (in metric tonnes).</li>\n",
    "    <li><b>total_waste_recycle_tonne: </b>The amount of waste that could be recycled (in metric tonnes).</li>\n",
    "    <li><b>total_waste_generated: </b>The total amount of waste collected before recycling (in metric tonnes).</li>\n",
    "    <li><b>recycling_rate: </b>The amount of waste recycled per tonne of waste generated.</li>\n",
    "    <li><b>year: </b>The recycling year.</li>\n",
    "</ul>\n",
    "    </div>\n",
    "<div style=\"background-color: #efebe4; color: #05192d; text-align:left; vertical-align: middle; padding: 15px 25px 15px 25px; line-height: 1.6; margin-top: 17px;\">\n",
    "    <div style=\"font-size:16px\"><b>datasets/2018_2019_waste.csv - Recycling statistics per waste type for the period 2018 to 2019</b>\n",
    "    </div>\n",
    "    <div> Source: <a href=\"https://www.nea.gov.sg/our-services/waste-management/waste-statistics-and-overall-recycling\">Singapore National Environment Agency</a></div>\n",
    "<ul>\n",
    "    <li><b>Waste Type: </b>The type of waste recycled.</li>\n",
    "    <li><b>Total Generated: </b>The total amount of waste collected before recycling (in thousands of metric tonnes).</li> \n",
    "    <li><b>Total Recycled: </b>The amount of waste that could be recycled. (in thousands of metric tonnes).</li>\n",
    "    <li><b>Year: </b>The recycling year.</li>\n",
    "</ul>\n",
    "    </div>\n",
    "<div style=\"background-color: #efebe4; color: #05192d; text-align:left; vertical-align: middle; padding: 15px 25px 15px 25px; line-height: 1.6; margin-top: 17px;\">\n",
    "    <div style=\"font-size:16px\"><b>datasets/energy_saved.csv -  Estimations of the amount of energy saved per waste type in kWh</b>\n",
    "    </div>\n",
    "<ul>\n",
    "    <li><b>material: </b>The type of waste recycled.</li>\n",
    "    <li><b>energy_saved: </b>An estimate of the energy saved (in kiloWatt hour) by recycling a metric tonne of waste.</li> \n",
    "    <li><b>crude_oil_saved: </b>An estimate of the number of barrels of oil saved by recycling a metric tonne of waste.</li>\n",
    "</ul>\n",
    "\n",
    "</div>\n",
    "<pre><code>\n",
    "</code></pre>"
   ]
  },
  {
   "cell_type": "code",
   "execution_count": 2,
   "metadata": {},
   "outputs": [],
   "source": [
    "# Reading files \n",
    "import pandas as pd \n",
    "df1 = pd.read_csv('wastestats.csv')\n",
    "df2 = pd.read_csv('2018_2019_waste.csv')\n",
    "df3= pd.read_csv('energy_saved.csv')"
   ]
  },
  {
   "cell_type": "code",
   "execution_count": 3,
   "metadata": {},
   "outputs": [
    {
     "data": {
      "text/html": [
       "<div>\n",
       "<style scoped>\n",
       "    .dataframe tbody tr th:only-of-type {\n",
       "        vertical-align: middle;\n",
       "    }\n",
       "\n",
       "    .dataframe tbody tr th {\n",
       "        vertical-align: top;\n",
       "    }\n",
       "\n",
       "    .dataframe thead th {\n",
       "        text-align: right;\n",
       "    }\n",
       "</style>\n",
       "<table border=\"1\" class=\"dataframe\">\n",
       "  <thead>\n",
       "    <tr style=\"text-align: right;\">\n",
       "      <th></th>\n",
       "      <th>waste_type</th>\n",
       "      <th>waste_disposed_of_tonne</th>\n",
       "      <th>total_waste_recycled_tonne</th>\n",
       "      <th>total_waste_generated_tonne</th>\n",
       "      <th>recycling_rate</th>\n",
       "      <th>year</th>\n",
       "    </tr>\n",
       "  </thead>\n",
       "  <tbody>\n",
       "    <tr>\n",
       "      <th>0</th>\n",
       "      <td>Food</td>\n",
       "      <td>679900</td>\n",
       "      <td>111100.0</td>\n",
       "      <td>791000</td>\n",
       "      <td>0.14</td>\n",
       "      <td>2016</td>\n",
       "    </tr>\n",
       "    <tr>\n",
       "      <th>1</th>\n",
       "      <td>Paper/Cardboard</td>\n",
       "      <td>576000</td>\n",
       "      <td>607100.0</td>\n",
       "      <td>1183100</td>\n",
       "      <td>0.51</td>\n",
       "      <td>2016</td>\n",
       "    </tr>\n",
       "    <tr>\n",
       "      <th>2</th>\n",
       "      <td>Plastics</td>\n",
       "      <td>762700</td>\n",
       "      <td>59500.0</td>\n",
       "      <td>822200</td>\n",
       "      <td>0.07</td>\n",
       "      <td>2016</td>\n",
       "    </tr>\n",
       "    <tr>\n",
       "      <th>3</th>\n",
       "      <td>C&amp;D</td>\n",
       "      <td>9700</td>\n",
       "      <td>1585700.0</td>\n",
       "      <td>1595400</td>\n",
       "      <td>0.99</td>\n",
       "      <td>2016</td>\n",
       "    </tr>\n",
       "    <tr>\n",
       "      <th>4</th>\n",
       "      <td>Horticultural waste</td>\n",
       "      <td>111500</td>\n",
       "      <td>209000.0</td>\n",
       "      <td>320500</td>\n",
       "      <td>0.65</td>\n",
       "      <td>2016</td>\n",
       "    </tr>\n",
       "  </tbody>\n",
       "</table>\n",
       "</div>"
      ],
      "text/plain": [
       "            waste_type  waste_disposed_of_tonne  total_waste_recycled_tonne  \\\n",
       "0                 Food                   679900                    111100.0   \n",
       "1      Paper/Cardboard                   576000                    607100.0   \n",
       "2             Plastics                   762700                     59500.0   \n",
       "3                  C&D                     9700                   1585700.0   \n",
       "4  Horticultural waste                   111500                    209000.0   \n",
       "\n",
       "   total_waste_generated_tonne  recycling_rate  year  \n",
       "0                       791000            0.14  2016  \n",
       "1                      1183100            0.51  2016  \n",
       "2                       822200            0.07  2016  \n",
       "3                      1595400            0.99  2016  \n",
       "4                       320500            0.65  2016  "
      ]
     },
     "execution_count": 3,
     "metadata": {},
     "output_type": "execute_result"
    }
   ],
   "source": [
    "df1.head()"
   ]
  },
  {
   "cell_type": "code",
   "execution_count": 4,
   "metadata": {},
   "outputs": [
    {
     "data": {
      "text/html": [
       "<div>\n",
       "<style scoped>\n",
       "    .dataframe tbody tr th:only-of-type {\n",
       "        vertical-align: middle;\n",
       "    }\n",
       "\n",
       "    .dataframe tbody tr th {\n",
       "        vertical-align: top;\n",
       "    }\n",
       "\n",
       "    .dataframe thead th {\n",
       "        text-align: right;\n",
       "    }\n",
       "</style>\n",
       "<table border=\"1\" class=\"dataframe\">\n",
       "  <thead>\n",
       "    <tr style=\"text-align: right;\">\n",
       "      <th></th>\n",
       "      <th>Waste Type</th>\n",
       "      <th>Total Generated ('000 tonnes)</th>\n",
       "      <th>Total Recycled ('000 tonnes)</th>\n",
       "      <th>Year</th>\n",
       "    </tr>\n",
       "  </thead>\n",
       "  <tbody>\n",
       "    <tr>\n",
       "      <th>0</th>\n",
       "      <td>Construction&amp; Demolition</td>\n",
       "      <td>1440</td>\n",
       "      <td>1434</td>\n",
       "      <td>2019</td>\n",
       "    </tr>\n",
       "    <tr>\n",
       "      <th>1</th>\n",
       "      <td>Ferrous Metal</td>\n",
       "      <td>1278</td>\n",
       "      <td>1270</td>\n",
       "      <td>2019</td>\n",
       "    </tr>\n",
       "    <tr>\n",
       "      <th>2</th>\n",
       "      <td>Paper/Cardboard</td>\n",
       "      <td>1011</td>\n",
       "      <td>449</td>\n",
       "      <td>2019</td>\n",
       "    </tr>\n",
       "    <tr>\n",
       "      <th>3</th>\n",
       "      <td>Plastics</td>\n",
       "      <td>930</td>\n",
       "      <td>37</td>\n",
       "      <td>2019</td>\n",
       "    </tr>\n",
       "    <tr>\n",
       "      <th>4</th>\n",
       "      <td>Food</td>\n",
       "      <td>7440</td>\n",
       "      <td>136</td>\n",
       "      <td>2019</td>\n",
       "    </tr>\n",
       "  </tbody>\n",
       "</table>\n",
       "</div>"
      ],
      "text/plain": [
       "                 Waste Type  Total Generated ('000 tonnes)  \\\n",
       "0  Construction& Demolition                           1440   \n",
       "1             Ferrous Metal                           1278   \n",
       "2           Paper/Cardboard                           1011   \n",
       "3                  Plastics                            930   \n",
       "4                      Food                           7440   \n",
       "\n",
       "   Total Recycled ('000 tonnes)  Year  \n",
       "0                          1434  2019  \n",
       "1                          1270  2019  \n",
       "2                           449  2019  \n",
       "3                            37  2019  \n",
       "4                           136  2019  "
      ]
     },
     "execution_count": 4,
     "metadata": {},
     "output_type": "execute_result"
    }
   ],
   "source": [
    "df2.head()"
   ]
  },
  {
   "cell_type": "code",
   "execution_count": 5,
   "metadata": {},
   "outputs": [
    {
     "data": {
      "text/html": [
       "<div>\n",
       "<style scoped>\n",
       "    .dataframe tbody tr th:only-of-type {\n",
       "        vertical-align: middle;\n",
       "    }\n",
       "\n",
       "    .dataframe tbody tr th {\n",
       "        vertical-align: top;\n",
       "    }\n",
       "\n",
       "    .dataframe thead th {\n",
       "        text-align: right;\n",
       "    }\n",
       "</style>\n",
       "<table border=\"1\" class=\"dataframe\">\n",
       "  <thead>\n",
       "    <tr style=\"text-align: right;\">\n",
       "      <th></th>\n",
       "      <th>The table gives the amount of energy saved in kilowatt hour (kWh) and the amount of crude oil (barrels) by recycling 1 metric tonne (1000 kilogram)  per waste type</th>\n",
       "      <th>Unnamed: 1</th>\n",
       "      <th>Unnamed: 2</th>\n",
       "      <th>Unnamed: 3</th>\n",
       "      <th>Unnamed: 4</th>\n",
       "      <th>Unnamed: 5</th>\n",
       "    </tr>\n",
       "  </thead>\n",
       "  <tbody>\n",
       "    <tr>\n",
       "      <th>0</th>\n",
       "      <td>1 barrel oil is approximately 159 litres of oil</td>\n",
       "      <td>NaN</td>\n",
       "      <td>NaN</td>\n",
       "      <td>NaN</td>\n",
       "      <td>NaN</td>\n",
       "      <td>NaN</td>\n",
       "    </tr>\n",
       "    <tr>\n",
       "      <th>1</th>\n",
       "      <td>NaN</td>\n",
       "      <td>NaN</td>\n",
       "      <td>NaN</td>\n",
       "      <td>NaN</td>\n",
       "      <td>NaN</td>\n",
       "      <td>NaN</td>\n",
       "    </tr>\n",
       "    <tr>\n",
       "      <th>2</th>\n",
       "      <td>material</td>\n",
       "      <td>Plastic</td>\n",
       "      <td>Glass</td>\n",
       "      <td>Ferrous Metal</td>\n",
       "      <td>Non-Ferrous Metal</td>\n",
       "      <td>Paper</td>\n",
       "    </tr>\n",
       "    <tr>\n",
       "      <th>3</th>\n",
       "      <td>energy_saved</td>\n",
       "      <td>5774 Kwh</td>\n",
       "      <td>42 Kwh</td>\n",
       "      <td>642 Kwh</td>\n",
       "      <td>14000 Kwh</td>\n",
       "      <td>4000 kWh</td>\n",
       "    </tr>\n",
       "    <tr>\n",
       "      <th>4</th>\n",
       "      <td>crude_oil saved</td>\n",
       "      <td>16 barrels</td>\n",
       "      <td>NaN</td>\n",
       "      <td>1.8 barrels</td>\n",
       "      <td>40 barrels</td>\n",
       "      <td>1.7 barrels</td>\n",
       "    </tr>\n",
       "  </tbody>\n",
       "</table>\n",
       "</div>"
      ],
      "text/plain": [
       "  The table gives the amount of energy saved in kilowatt hour (kWh) and the amount of crude oil (barrels) by recycling 1 metric tonne (1000 kilogram)  per waste type  \\\n",
       "0    1 barrel oil is approximately 159 litres of oil                                                                                                                    \n",
       "1                                                NaN                                                                                                                    \n",
       "2                                           material                                                                                                                    \n",
       "3                                       energy_saved                                                                                                                    \n",
       "4                                    crude_oil saved                                                                                                                    \n",
       "\n",
       "   Unnamed: 1 Unnamed: 2     Unnamed: 3         Unnamed: 4   Unnamed: 5  \n",
       "0         NaN        NaN            NaN                NaN          NaN  \n",
       "1         NaN        NaN            NaN                NaN          NaN  \n",
       "2     Plastic      Glass  Ferrous Metal  Non-Ferrous Metal        Paper  \n",
       "3    5774 Kwh     42 Kwh        642 Kwh          14000 Kwh     4000 kWh  \n",
       "4  16 barrels        NaN    1.8 barrels         40 barrels  1.7 barrels  "
      ]
     },
     "execution_count": 5,
     "metadata": {},
     "output_type": "execute_result"
    }
   ],
   "source": [
    "df3"
   ]
  },
  {
   "cell_type": "markdown",
   "metadata": {},
   "source": [
    "## Finding the energy saved every year from 2015 to 2019 form the main recycled types. \n",
    "#### df 1 and df2 hava somae typos, lets first deal with them."
   ]
  },
  {
   "cell_type": "code",
   "execution_count": 6,
   "metadata": {},
   "outputs": [
    {
     "data": {
      "text/plain": [
       "array(['food', 'paper/cardboard', 'plastics', 'c&d',\n",
       "       'horticultural waste', 'wood', 'ferrous metal',\n",
       "       'non-ferrous metal', 'used slag', 'ash & sludge', 'glass',\n",
       "       'textile/leather', 'scrap tyres',\n",
       "       'others (stones, ceramics & rubber etc.)', 'total',\n",
       "       'others (stones, ceramics & rubber etc)', 'construction debris',\n",
       "       'non-ferrous metals', 'ash and sludge', 'plastic',\n",
       "       'others (stones, ceramic, rubber, etc.)'], dtype=object)"
      ]
     },
     "execution_count": 6,
     "metadata": {},
     "output_type": "execute_result"
    }
   ],
   "source": [
    "# Lowering all letter cases \n",
    "df1= df1[df1['year']>=2015]\n",
    "df1['waste_type'] = df1['waste_type'].str.lower()\n",
    "df2['Waste Type'] = df2['Waste Type'].str.lower()\n",
    "\n",
    "# Finding the unique values in df1\n",
    "df1['waste_type'].unique()"
   ]
  },
  {
   "cell_type": "code",
   "execution_count": 7,
   "metadata": {},
   "outputs": [
    {
     "data": {
      "text/plain": [
       "array(['construction& demolition', 'ferrous metal', 'paper/cardboard',\n",
       "       'plastics', 'food', 'wood', 'horticultural', 'ash & sludge',\n",
       "       'textile/leather', 'used slag', 'non-ferrous metal', 'glass',\n",
       "       'scrap tyres', 'others (stones, ceramic, rubber, ect)', 'overall'],\n",
       "      dtype=object)"
      ]
     },
     "execution_count": 7,
     "metadata": {},
     "output_type": "execute_result"
    }
   ],
   "source": [
    "# Finding the unique values in df2\n",
    "df2['Waste Type'].unique()"
   ]
  },
  {
   "cell_type": "code",
   "execution_count": 8,
   "metadata": {},
   "outputs": [],
   "source": [
    "# Mapping typos in df1 and df2\n",
    "mapping = {'plastics':'plastic','non-ferrous metals':'non-ferrous metal'}\n",
    "df1['waste_type'] = df1['waste_type'].replace(mapping)\n",
    "df2['Waste Type'] = df2['Waste Type'].replace(mapping)\n",
    "\n",
    "# filtering the main recyled types \n",
    "categories= ['glass', 'plastic','ferrous metal','non-ferrous metal']\n",
    "df1= df1[df1['waste_type'].isin(categories)]\n",
    "df2= df2[df2['Waste Type'].isin(categories)]"
   ]
  },
  {
   "cell_type": "code",
   "execution_count": 9,
   "metadata": {},
   "outputs": [
    {
     "data": {
      "text/plain": [
       "array(['plastic', 'ferrous metal', 'non-ferrous metal', 'glass'],\n",
       "      dtype=object)"
      ]
     },
     "execution_count": 9,
     "metadata": {},
     "output_type": "execute_result"
    }
   ],
   "source": [
    "df1['waste_type'].unique() #checking "
   ]
  },
  {
   "cell_type": "code",
   "execution_count": 10,
   "metadata": {},
   "outputs": [
    {
     "data": {
      "text/plain": [
       "array(['ferrous metal', 'plastic', 'non-ferrous metal', 'glass'],\n",
       "      dtype=object)"
      ]
     },
     "execution_count": 10,
     "metadata": {},
     "output_type": "execute_result"
    }
   ],
   "source": [
    "df2['Waste Type'].unique() #checking "
   ]
  },
  {
   "cell_type": "code",
   "execution_count": 13,
   "metadata": {},
   "outputs": [
    {
     "data": {
      "text/html": [
       "<div>\n",
       "<style scoped>\n",
       "    .dataframe tbody tr th:only-of-type {\n",
       "        vertical-align: middle;\n",
       "    }\n",
       "\n",
       "    .dataframe tbody tr th {\n",
       "        vertical-align: top;\n",
       "    }\n",
       "\n",
       "    .dataframe thead th {\n",
       "        text-align: right;\n",
       "    }\n",
       "</style>\n",
       "<table border=\"1\" class=\"dataframe\">\n",
       "  <thead>\n",
       "    <tr style=\"text-align: right;\">\n",
       "      <th></th>\n",
       "      <th>material</th>\n",
       "      <th>energy_saved</th>\n",
       "    </tr>\n",
       "  </thead>\n",
       "  <tbody>\n",
       "    <tr>\n",
       "      <th>0</th>\n",
       "      <td>glass</td>\n",
       "      <td>42</td>\n",
       "    </tr>\n",
       "    <tr>\n",
       "      <th>1</th>\n",
       "      <td>plastic</td>\n",
       "      <td>5774</td>\n",
       "    </tr>\n",
       "    <tr>\n",
       "      <th>2</th>\n",
       "      <td>ferrous metal</td>\n",
       "      <td>642</td>\n",
       "    </tr>\n",
       "    <tr>\n",
       "      <th>3</th>\n",
       "      <td>non-ferrous metal</td>\n",
       "      <td>14000</td>\n",
       "    </tr>\n",
       "  </tbody>\n",
       "</table>\n",
       "</div>"
      ],
      "text/plain": [
       "            material  energy_saved\n",
       "0              glass            42\n",
       "1            plastic          5774\n",
       "2      ferrous metal           642\n",
       "3  non-ferrous metal         14000"
      ]
     },
     "execution_count": 13,
     "metadata": {},
     "output_type": "execute_result"
    }
   ],
   "source": [
    "# Dropping the NaN of df3\n",
    "df3 = df3.dropna()\n",
    "df3 = pd.DataFrame({'material':categories, 'energy_saved':[42,5774,642,14000]})\n",
    "df3 #checking"
   ]
  },
  {
   "cell_type": "code",
   "execution_count": 14,
   "metadata": {},
   "outputs": [],
   "source": [
    "# Adding the new colum: 'total_energy_saved' to df1 \n",
    "for waste_type in categories: \n",
    "    for index, row in df1.iterrows():\n",
    "        if row['waste_type'] == waste_type:\n",
    "            df1.loc[index, \"total_energy_saved\"] = row['total_waste_recycled_tonne']*df3[df3['material']==waste_type]['energy_saved'].values     \n",
    "\n",
    "# Adding the new colum: 'total_energy_saved' to df2            \n",
    "columns= ['waste_type','total_waste_generated_tonne','total_waste_recycled_tonne','year']\n",
    "df2.columns = columns \n",
    "df2['total_waste_generated_tonne'] = df2['total_waste_generated_tonne']*1000\n",
    "df2['total_waste_recycled_tonne'] = df2['total_waste_recycled_tonne']*1000\n",
    "for waste_type in categories: \n",
    "    for index, row in df2.iterrows():\n",
    "        if row['waste_type'] == waste_type:\n",
    "            df2.loc[index, \"total_energy_saved\"] = row['total_waste_recycled_tonne']*df3.loc[df3['material']==waste_type,'energy_saved'].values           "
   ]
  },
  {
   "cell_type": "code",
   "execution_count": 15,
   "metadata": {},
   "outputs": [
    {
     "data": {
      "text/html": [
       "<div>\n",
       "<style scoped>\n",
       "    .dataframe tbody tr th:only-of-type {\n",
       "        vertical-align: middle;\n",
       "    }\n",
       "\n",
       "    .dataframe tbody tr th {\n",
       "        vertical-align: top;\n",
       "    }\n",
       "\n",
       "    .dataframe thead th {\n",
       "        text-align: right;\n",
       "    }\n",
       "</style>\n",
       "<table border=\"1\" class=\"dataframe\">\n",
       "  <thead>\n",
       "    <tr style=\"text-align: right;\">\n",
       "      <th></th>\n",
       "      <th>total_energy_saved</th>\n",
       "    </tr>\n",
       "    <tr>\n",
       "      <th>year</th>\n",
       "      <th></th>\n",
       "    </tr>\n",
       "  </thead>\n",
       "  <tbody>\n",
       "    <tr>\n",
       "      <th>2015</th>\n",
       "      <td>3.435929e+09</td>\n",
       "    </tr>\n",
       "    <tr>\n",
       "      <th>2016</th>\n",
       "      <td>2.554433e+09</td>\n",
       "    </tr>\n",
       "    <tr>\n",
       "      <th>2017</th>\n",
       "      <td>2.470596e+09</td>\n",
       "    </tr>\n",
       "    <tr>\n",
       "      <th>2018</th>\n",
       "      <td>2.698130e+09</td>\n",
       "    </tr>\n",
       "    <tr>\n",
       "      <th>2019</th>\n",
       "      <td>2.765440e+09</td>\n",
       "    </tr>\n",
       "  </tbody>\n",
       "</table>\n",
       "</div>"
      ],
      "text/plain": [
       "      total_energy_saved\n",
       "year                    \n",
       "2015        3.435929e+09\n",
       "2016        2.554433e+09\n",
       "2017        2.470596e+09\n",
       "2018        2.698130e+09\n",
       "2019        2.765440e+09"
      ]
     },
     "execution_count": 15,
     "metadata": {},
     "output_type": "execute_result"
    }
   ],
   "source": [
    "# Creating the annual_energy_savings from df1\n",
    "annual_energy_savings1= df1[['year','total_energy_saved']].sort_values(by='year') #cheking \n",
    "\n",
    "# Creating the annual_energy_savings from df2\n",
    "annual_energy_savings2= df2[['year','total_energy_saved']].sort_values(by='year') #cheking \n",
    "\n",
    "# Creating the annual_energy_savings DataFrame\n",
    "annual_energy_savings = pd.concat([annual_energy_savings1,annual_energy_savings2],ignore_index=True).set_index('year')\n",
    "annual_energy_savings = annual_energy_savings.groupby('year').sum()\n",
    "annual_energy_savings"
   ]
  },
  {
   "cell_type": "markdown",
   "metadata": {},
   "source": []
  }
 ],
 "metadata": {
  "kernelspec": {
   "display_name": "Python 3",
   "language": "python",
   "name": "python3"
  },
  "language_info": {
   "codemirror_mode": {
    "name": "ipython",
    "version": 3
   },
   "file_extension": ".py",
   "mimetype": "text/x-python",
   "name": "python",
   "nbconvert_exporter": "python",
   "pygments_lexer": "ipython3",
   "version": "3.8.5"
  }
 },
 "nbformat": 4,
 "nbformat_minor": 4
}
